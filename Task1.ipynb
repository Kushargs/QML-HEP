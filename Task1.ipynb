{
  "nbformat": 4,
  "nbformat_minor": 0,
  "metadata": {
    "colab": {
      "name": "Task1.ipynb",
      "provenance": []
    },
    "kernelspec": {
      "name": "python3",
      "display_name": "Python 3"
    },
    "language_info": {
      "name": "python"
    }
  },
  "cells": [
    {
      "cell_type": "markdown",
      "metadata": {
        "id": "nLyO35T_pzKz"
      },
      "source": [
        "## Task 1"
      ]
    },
    {
      "cell_type": "code",
      "execution_count": null,
      "metadata": {
        "colab": {
          "base_uri": "https://localhost:8080/",
          "height": 1000
        },
        "id": "LaN32ZYUp_a1",
        "outputId": "ece2e32d-9b08-4b99-8fa3-bd0666bca796"
      },
      "outputs": [
        {
          "output_type": "stream",
          "name": "stdout",
          "text": [
            "Collecting cirq\n",
            "  Downloading cirq-0.14.1-py3-none-any.whl (7.8 kB)\n",
            "Collecting cirq-aqt==0.14.1\n",
            "  Downloading cirq_aqt-0.14.1-py3-none-any.whl (19 kB)\n",
            "Collecting cirq-google==0.14.1\n",
            "  Downloading cirq_google-0.14.1-py3-none-any.whl (541 kB)\n",
            "\u001b[K     |████████████████████████████████| 541 kB 53.6 MB/s \n",
            "\u001b[?25hCollecting cirq-pasqal==0.14.1\n",
            "  Downloading cirq_pasqal-0.14.1-py3-none-any.whl (30 kB)\n",
            "Collecting cirq-web==0.14.1\n",
            "  Downloading cirq_web-0.14.1-py3-none-any.whl (593 kB)\n",
            "\u001b[K     |████████████████████████████████| 593 kB 58.6 MB/s \n",
            "\u001b[?25hCollecting cirq-core==0.14.1\n",
            "  Downloading cirq_core-0.14.1-py3-none-any.whl (1.8 MB)\n",
            "\u001b[K     |████████████████████████████████| 1.8 MB 51.5 MB/s \n",
            "\u001b[?25hCollecting cirq-rigetti==0.14.1\n",
            "  Downloading cirq_rigetti-0.14.1-py3-none-any.whl (56 kB)\n",
            "\u001b[K     |████████████████████████████████| 56 kB 5.4 MB/s \n",
            "\u001b[?25hCollecting cirq-ionq==0.14.1\n",
            "  Downloading cirq_ionq-0.14.1-py3-none-any.whl (48 kB)\n",
            "\u001b[K     |████████████████████████████████| 48 kB 7.2 MB/s \n",
            "\u001b[?25hRequirement already satisfied: requests~=2.18 in /usr/local/lib/python3.7/dist-packages (from cirq-aqt==0.14.1->cirq) (2.23.0)\n",
            "Requirement already satisfied: typing-extensions in /usr/local/lib/python3.7/dist-packages (from cirq-core==0.14.1->cirq) (4.1.1)\n",
            "Requirement already satisfied: pandas in /usr/local/lib/python3.7/dist-packages (from cirq-core==0.14.1->cirq) (1.3.5)\n",
            "Requirement already satisfied: networkx~=2.4 in /usr/local/lib/python3.7/dist-packages (from cirq-core==0.14.1->cirq) (2.6.3)\n",
            "Requirement already satisfied: numpy~=1.16 in /usr/local/lib/python3.7/dist-packages (from cirq-core==0.14.1->cirq) (1.21.5)\n",
            "Requirement already satisfied: tqdm in /usr/local/lib/python3.7/dist-packages (from cirq-core==0.14.1->cirq) (4.64.0)\n",
            "Requirement already satisfied: sortedcontainers~=2.0 in /usr/local/lib/python3.7/dist-packages (from cirq-core==0.14.1->cirq) (2.4.0)\n",
            "Collecting duet~=0.2.0\n",
            "  Downloading duet-0.2.5-py3-none-any.whl (28 kB)\n",
            "Requirement already satisfied: sympy<1.10 in /usr/local/lib/python3.7/dist-packages (from cirq-core==0.14.1->cirq) (1.7.1)\n",
            "Requirement already satisfied: matplotlib~=3.0 in /usr/local/lib/python3.7/dist-packages (from cirq-core==0.14.1->cirq) (3.2.2)\n",
            "Collecting backports.cached-property~=1.0.1\n",
            "  Downloading backports.cached_property-1.0.1-py3-none-any.whl (5.7 kB)\n",
            "Requirement already satisfied: scipy in /usr/local/lib/python3.7/dist-packages (from cirq-core==0.14.1->cirq) (1.4.1)\n",
            "Requirement already satisfied: google-api-core[grpc]<2.0.0dev,>=1.14.0 in /usr/local/lib/python3.7/dist-packages (from cirq-google==0.14.1->cirq) (1.31.5)\n",
            "Requirement already satisfied: protobuf>=3.13.0 in /usr/local/lib/python3.7/dist-packages (from cirq-google==0.14.1->cirq) (3.17.3)\n",
            "Collecting pyquil~=3.0.0\n",
            "  Downloading pyquil-3.0.1-py3-none-any.whl (220 kB)\n",
            "\u001b[K     |████████████████████████████████| 220 kB 74.4 MB/s \n",
            "\u001b[?25hCollecting httpx~=0.15.5\n",
            "  Downloading httpx-0.15.5-py3-none-any.whl (65 kB)\n",
            "\u001b[K     |████████████████████████████████| 65 kB 5.2 MB/s \n",
            "\u001b[?25hCollecting iso8601~=0.1.14\n",
            "  Downloading iso8601-0.1.16-py2.py3-none-any.whl (10 kB)\n",
            "Collecting h11~=0.9.0\n",
            "  Downloading h11-0.9.0-py2.py3-none-any.whl (53 kB)\n",
            "\u001b[K     |████████████████████████████████| 53 kB 3.2 MB/s \n",
            "\u001b[?25hCollecting qcs-api-client~=0.8.0\n",
            "  Downloading qcs_api_client-0.8.0-py3-none-any.whl (97 kB)\n",
            "\u001b[K     |████████████████████████████████| 97 kB 9.0 MB/s \n",
            "\u001b[?25hCollecting sniffio~=1.2.0\n",
            "  Downloading sniffio-1.2.0-py3-none-any.whl (10 kB)\n",
            "Collecting rfc3986~=1.5.0\n",
            "  Downloading rfc3986-1.5.0-py2.py3-none-any.whl (31 kB)\n",
            "Collecting pyjwt~=1.7.1\n",
            "  Downloading PyJWT-1.7.1-py2.py3-none-any.whl (18 kB)\n",
            "Requirement already satisfied: idna~=2.10 in /usr/local/lib/python3.7/dist-packages (from cirq-rigetti==0.14.1->cirq) (2.10)\n",
            "Collecting httpcore~=0.11.1\n",
            "  Downloading httpcore-0.11.1-py3-none-any.whl (52 kB)\n",
            "\u001b[K     |████████████████████████████████| 52 kB 2.0 MB/s \n",
            "\u001b[?25hCollecting pydantic~=1.8.2\n",
            "  Downloading pydantic-1.8.2-cp37-cp37m-manylinux2014_x86_64.whl (10.1 MB)\n",
            "\u001b[K     |████████████████████████████████| 10.1 MB 39.1 MB/s \n",
            "\u001b[?25hCollecting certifi~=2021.5.30\n",
            "  Downloading certifi-2021.5.30-py2.py3-none-any.whl (145 kB)\n",
            "\u001b[K     |████████████████████████████████| 145 kB 77.0 MB/s \n",
            "\u001b[?25hCollecting toml~=0.10.2\n",
            "  Downloading toml-0.10.2-py2.py3-none-any.whl (16 kB)\n",
            "Collecting rfc3339~=6.2\n",
            "  Downloading rfc3339-6.2-py3-none-any.whl (5.5 kB)\n",
            "Collecting retrying~=1.3.3\n",
            "  Downloading retrying-1.3.3.tar.gz (10 kB)\n",
            "Requirement already satisfied: python-dateutil~=2.8.1 in /usr/local/lib/python3.7/dist-packages (from cirq-rigetti==0.14.1->cirq) (2.8.2)\n",
            "Collecting six~=1.16.0\n",
            "  Downloading six-1.16.0-py2.py3-none-any.whl (11 kB)\n",
            "Collecting attrs~=20.3.0\n",
            "  Downloading attrs-20.3.0-py2.py3-none-any.whl (49 kB)\n",
            "\u001b[K     |████████████████████████████████| 49 kB 8.0 MB/s \n",
            "\u001b[?25hCollecting typing-extensions\n",
            "  Downloading typing_extensions-3.10.0.0-py3-none-any.whl (26 kB)\n",
            "Requirement already satisfied: google-auth<2.0dev,>=1.25.0 in /usr/local/lib/python3.7/dist-packages (from google-api-core[grpc]<2.0.0dev,>=1.14.0->cirq-google==0.14.1->cirq) (1.35.0)\n",
            "Requirement already satisfied: setuptools>=40.3.0 in /usr/local/lib/python3.7/dist-packages (from google-api-core[grpc]<2.0.0dev,>=1.14.0->cirq-google==0.14.1->cirq) (57.4.0)\n",
            "Requirement already satisfied: packaging>=14.3 in /usr/local/lib/python3.7/dist-packages (from google-api-core[grpc]<2.0.0dev,>=1.14.0->cirq-google==0.14.1->cirq) (21.3)\n",
            "Requirement already satisfied: googleapis-common-protos<2.0dev,>=1.6.0 in /usr/local/lib/python3.7/dist-packages (from google-api-core[grpc]<2.0.0dev,>=1.14.0->cirq-google==0.14.1->cirq) (1.56.0)\n",
            "Requirement already satisfied: pytz in /usr/local/lib/python3.7/dist-packages (from google-api-core[grpc]<2.0.0dev,>=1.14.0->cirq-google==0.14.1->cirq) (2018.9)\n",
            "Requirement already satisfied: grpcio<2.0dev,>=1.29.0 in /usr/local/lib/python3.7/dist-packages (from google-api-core[grpc]<2.0.0dev,>=1.14.0->cirq-google==0.14.1->cirq) (1.44.0)\n",
            "Requirement already satisfied: rsa<5,>=3.1.4 in /usr/local/lib/python3.7/dist-packages (from google-auth<2.0dev,>=1.25.0->google-api-core[grpc]<2.0.0dev,>=1.14.0->cirq-google==0.14.1->cirq) (4.8)\n",
            "Requirement already satisfied: cachetools<5.0,>=2.0.0 in /usr/local/lib/python3.7/dist-packages (from google-auth<2.0dev,>=1.25.0->google-api-core[grpc]<2.0.0dev,>=1.14.0->cirq-google==0.14.1->cirq) (4.2.4)\n",
            "Requirement already satisfied: pyasn1-modules>=0.2.1 in /usr/local/lib/python3.7/dist-packages (from google-auth<2.0dev,>=1.25.0->google-api-core[grpc]<2.0.0dev,>=1.14.0->cirq-google==0.14.1->cirq) (0.2.8)\n",
            "Requirement already satisfied: cycler>=0.10 in /usr/local/lib/python3.7/dist-packages (from matplotlib~=3.0->cirq-core==0.14.1->cirq) (0.11.0)\n",
            "Requirement already satisfied: kiwisolver>=1.0.1 in /usr/local/lib/python3.7/dist-packages (from matplotlib~=3.0->cirq-core==0.14.1->cirq) (1.4.2)\n",
            "Requirement already satisfied: pyparsing!=2.0.4,!=2.1.2,!=2.1.6,>=2.0.1 in /usr/local/lib/python3.7/dist-packages (from matplotlib~=3.0->cirq-core==0.14.1->cirq) (3.0.8)\n",
            "Requirement already satisfied: pyasn1<0.5.0,>=0.4.6 in /usr/local/lib/python3.7/dist-packages (from pyasn1-modules>=0.2.1->google-auth<2.0dev,>=1.25.0->google-api-core[grpc]<2.0.0dev,>=1.14.0->cirq-google==0.14.1->cirq) (0.4.8)\n",
            "Collecting lark<0.12.0,>=0.11.1\n",
            "  Downloading lark-0.11.3.tar.gz (229 kB)\n",
            "\u001b[K     |████████████████████████████████| 229 kB 76.4 MB/s \n",
            "\u001b[?25hCollecting rpcq<4.0.0,>=3.6.0\n",
            "  Downloading rpcq-3.10.0.tar.gz (44 kB)\n",
            "\u001b[K     |████████████████████████████████| 44 kB 3.7 MB/s \n",
            "\u001b[?25hCollecting importlib-metadata<4.0.0,>=3.7.3\n",
            "  Downloading importlib_metadata-3.10.1-py3-none-any.whl (14 kB)\n",
            "Collecting retry<0.10.0,>=0.9.2\n",
            "  Downloading retry-0.9.2-py2.py3-none-any.whl (8.0 kB)\n",
            "Collecting scipy\n",
            "  Downloading scipy-1.7.3-cp37-cp37m-manylinux_2_12_x86_64.manylinux2010_x86_64.whl (38.1 MB)\n",
            "\u001b[K     |████████████████████████████████| 38.1 MB 182 kB/s \n",
            "\u001b[?25hRequirement already satisfied: zipp>=0.5 in /usr/local/lib/python3.7/dist-packages (from importlib-metadata<4.0.0,>=3.7.3->pyquil~=3.0.0->cirq-rigetti==0.14.1->cirq) (3.8.0)\n",
            "Requirement already satisfied: urllib3!=1.25.0,!=1.25.1,<1.26,>=1.21.1 in /usr/local/lib/python3.7/dist-packages (from requests~=2.18->cirq-aqt==0.14.1->cirq) (1.24.3)\n",
            "Requirement already satisfied: chardet<4,>=3.0.2 in /usr/local/lib/python3.7/dist-packages (from requests~=2.18->cirq-aqt==0.14.1->cirq) (3.0.4)\n",
            "Requirement already satisfied: decorator>=3.4.2 in /usr/local/lib/python3.7/dist-packages (from retry<0.10.0,>=0.9.2->pyquil~=3.0.0->cirq-rigetti==0.14.1->cirq) (4.4.2)\n",
            "Requirement already satisfied: py<2.0.0,>=1.4.26 in /usr/local/lib/python3.7/dist-packages (from retry<0.10.0,>=0.9.2->pyquil~=3.0.0->cirq-rigetti==0.14.1->cirq) (1.11.0)\n",
            "Collecting msgpack<1.0,>=0.6\n",
            "  Downloading msgpack-0.6.2-cp37-cp37m-manylinux1_x86_64.whl (243 kB)\n",
            "\u001b[K     |████████████████████████████████| 243 kB 51.6 MB/s \n",
            "\u001b[?25hCollecting python-rapidjson\n",
            "  Downloading python_rapidjson-1.6-cp37-cp37m-manylinux_2_17_x86_64.manylinux2014_x86_64.whl (1.6 MB)\n",
            "\u001b[K     |████████████████████████████████| 1.6 MB 41.2 MB/s \n",
            "\u001b[?25hRequirement already satisfied: pyzmq>=17 in /usr/local/lib/python3.7/dist-packages (from rpcq<4.0.0,>=3.6.0->pyquil~=3.0.0->cirq-rigetti==0.14.1->cirq) (22.3.0)\n",
            "Collecting ruamel.yaml\n",
            "  Downloading ruamel.yaml-0.17.21-py3-none-any.whl (109 kB)\n",
            "\u001b[K     |████████████████████████████████| 109 kB 12.9 MB/s \n",
            "\u001b[?25hRequirement already satisfied: mpmath>=0.19 in /usr/local/lib/python3.7/dist-packages (from sympy<1.10->cirq-core==0.14.1->cirq) (1.2.1)\n",
            "Collecting ruamel.yaml.clib>=0.2.6\n",
            "  Downloading ruamel.yaml.clib-0.2.6-cp37-cp37m-manylinux1_x86_64.whl (546 kB)\n",
            "\u001b[K     |████████████████████████████████| 546 kB 55.8 MB/s \n",
            "\u001b[?25hBuilding wheels for collected packages: lark, retrying, rpcq\n",
            "  Building wheel for lark (setup.py) ... \u001b[?25l\u001b[?25hdone\n",
            "  Created wheel for lark: filename=lark-0.11.3-py2.py3-none-any.whl size=99648 sha256=d8ad9eeb6ce89271eb5d9de09fa0504c9c9d211626ac3f2a09b6d0c225f8b8aa\n",
            "  Stored in directory: /root/.cache/pip/wheels/d7/61/3c/9ac365f55966367be8d77dbeb21a3ddece3c466e660121e8d6\n",
            "  Building wheel for retrying (setup.py) ... \u001b[?25l\u001b[?25hdone\n",
            "  Created wheel for retrying: filename=retrying-1.3.3-py3-none-any.whl size=11447 sha256=a87025635cccb34156bbb0d28b1d627f582f2369d2c44995959226d1b284b3d9\n",
            "  Stored in directory: /root/.cache/pip/wheels/f9/8d/8d/f6af3f7f9eea3553bc2fe6d53e4b287dad18b06a861ac56ddf\n",
            "  Building wheel for rpcq (setup.py) ... \u001b[?25l\u001b[?25hdone\n",
            "  Created wheel for rpcq: filename=rpcq-3.10.0-py3-none-any.whl size=45969 sha256=d1fa87f03df91cb7609c7dbd1cf396c6093e4c8828439bd4671178fc1e052d51\n",
            "  Stored in directory: /root/.cache/pip/wheels/ff/44/60/4b8ce5700839431ee56820af595a2ac0e013a180232e5afba6\n",
            "Successfully built lark retrying rpcq\n",
            "Installing collected packages: sniffio, six, rfc3986, h11, typing-extensions, ruamel.yaml.clib, httpcore, certifi, toml, ruamel.yaml, rfc3339, retrying, python-rapidjson, pyjwt, pydantic, msgpack, iso8601, httpx, attrs, scipy, rpcq, retry, qcs-api-client, lark, importlib-metadata, duet, backports.cached-property, pyquil, cirq-core, cirq-web, cirq-rigetti, cirq-pasqal, cirq-ionq, cirq-google, cirq-aqt, cirq\n",
            "  Attempting uninstall: six\n",
            "    Found existing installation: six 1.15.0\n",
            "    Uninstalling six-1.15.0:\n",
            "      Successfully uninstalled six-1.15.0\n",
            "  Attempting uninstall: typing-extensions\n",
            "    Found existing installation: typing-extensions 4.1.1\n",
            "    Uninstalling typing-extensions-4.1.1:\n",
            "      Successfully uninstalled typing-extensions-4.1.1\n",
            "  Attempting uninstall: certifi\n",
            "    Found existing installation: certifi 2021.10.8\n",
            "    Uninstalling certifi-2021.10.8:\n",
            "      Successfully uninstalled certifi-2021.10.8\n",
            "  Attempting uninstall: msgpack\n",
            "    Found existing installation: msgpack 1.0.3\n",
            "    Uninstalling msgpack-1.0.3:\n",
            "      Successfully uninstalled msgpack-1.0.3\n",
            "  Attempting uninstall: attrs\n",
            "    Found existing installation: attrs 21.4.0\n",
            "    Uninstalling attrs-21.4.0:\n",
            "      Successfully uninstalled attrs-21.4.0\n",
            "  Attempting uninstall: scipy\n",
            "    Found existing installation: scipy 1.4.1\n",
            "    Uninstalling scipy-1.4.1:\n",
            "      Successfully uninstalled scipy-1.4.1\n",
            "  Attempting uninstall: importlib-metadata\n",
            "    Found existing installation: importlib-metadata 4.11.3\n",
            "    Uninstalling importlib-metadata-4.11.3:\n",
            "      Successfully uninstalled importlib-metadata-4.11.3\n",
            "\u001b[31mERROR: pip's dependency resolver does not currently take into account all the packages that are installed. This behaviour is the source of the following dependency conflicts.\n",
            "tensorflow 2.8.0 requires tf-estimator-nightly==2.8.0.dev2021122109, which is not installed.\n",
            "markdown 3.3.6 requires importlib-metadata>=4.4; python_version < \"3.10\", but you have importlib-metadata 3.10.1 which is incompatible.\n",
            "google-colab 1.0.0 requires six~=1.15.0, but you have six 1.16.0 which is incompatible.\n",
            "datascience 0.10.6 requires folium==0.2.1, but you have folium 0.8.3 which is incompatible.\n",
            "albumentations 0.1.12 requires imgaug<0.2.7,>=0.2.5, but you have imgaug 0.2.9 which is incompatible.\u001b[0m\n",
            "Successfully installed attrs-20.3.0 backports.cached-property-1.0.1 certifi-2021.5.30 cirq-0.14.1 cirq-aqt-0.14.1 cirq-core-0.14.1 cirq-google-0.14.1 cirq-ionq-0.14.1 cirq-pasqal-0.14.1 cirq-rigetti-0.14.1 cirq-web-0.14.1 duet-0.2.5 h11-0.9.0 httpcore-0.11.1 httpx-0.15.5 importlib-metadata-3.10.1 iso8601-0.1.16 lark-0.11.3 msgpack-0.6.2 pydantic-1.8.2 pyjwt-1.7.1 pyquil-3.0.1 python-rapidjson-1.6 qcs-api-client-0.8.0 retry-0.9.2 retrying-1.3.3 rfc3339-6.2 rfc3986-1.5.0 rpcq-3.10.0 ruamel.yaml-0.17.21 ruamel.yaml.clib-0.2.6 scipy-1.7.3 six-1.16.0 sniffio-1.2.0 toml-0.10.2 typing-extensions-3.10.0.0\n"
          ]
        },
        {
          "output_type": "display_data",
          "data": {
            "application/vnd.colab-display-data+json": {
              "pip_warning": {
                "packages": [
                  "six"
                ]
              }
            }
          },
          "metadata": {}
        }
      ],
      "source": [
        "!pip install cirq"
      ]
    },
    {
      "cell_type": "code",
      "execution_count": null,
      "metadata": {
        "id": "xjXx4LHbpzKt"
      },
      "outputs": [],
      "source": [
        "import cirq as q\n",
        "import numpy as np"
      ]
    },
    {
      "cell_type": "markdown",
      "metadata": {
        "id": "1bw2QppPznOP"
      },
      "source": [
        "## 1."
      ]
    },
    {
      "cell_type": "code",
      "execution_count": null,
      "metadata": {
        "id": "jzAClYhApzK6"
      },
      "outputs": [],
      "source": [
        "qubits = q.LineQubit.range(5)"
      ]
    },
    {
      "cell_type": "code",
      "execution_count": null,
      "metadata": {
        "id": "_ZyHeFnrpzK7"
      },
      "outputs": [],
      "source": [
        "circuit = q.Circuit()"
      ]
    },
    {
      "cell_type": "code",
      "source": [
        "circuit.append(q.H(i) for i in qubits)\n",
        "circuit.append(q.CNOT(i, i+1) for i in qubits[:4])\n",
        "circuit.append(q.SWAP(qubits[0],qubits[4]))\n",
        "circuit.append(q.rx(np.pi/2).on(qubits[0]))\n",
        "circuit.append(q.measure(i) for i in qubits)"
      ],
      "metadata": {
        "id": "Iom6m-P3JfBI"
      },
      "execution_count": null,
      "outputs": []
    },
    {
      "cell_type": "code",
      "execution_count": null,
      "metadata": {
        "colab": {
          "base_uri": "https://localhost:8080/"
        },
        "id": "OZS9zV4ApzK-",
        "outputId": "f60acaf5-ff72-4e46-c5c4-55e1b87af964"
      },
      "outputs": [
        {
          "output_type": "stream",
          "name": "stdout",
          "text": [
            "                          ┌──┐\n",
            "0: ───H───@────────────────×─────Rx(0.5π)───M───\n",
            "          │                │\n",
            "1: ───H───X───@───M────────┼────────────────────\n",
            "              │            │\n",
            "2: ───H───────X───@───M────┼────────────────────\n",
            "                  │        │\n",
            "3: ───H───────────X───@────┼M───────────────────\n",
            "                      │    │\n",
            "4: ───H───────────────X────×─────M──────────────\n",
            "                          └──┘\n"
          ]
        }
      ],
      "source": [
        "print(circuit)"
      ]
    },
    {
      "cell_type": "code",
      "execution_count": null,
      "metadata": {
        "id": "6COCzLSDpzLE"
      },
      "outputs": [],
      "source": [
        "from cirq import Simulator\n",
        "simulator = Simulator()\n",
        "result = simulator.run(circuit, repetitions=20)"
      ]
    },
    {
      "cell_type": "code",
      "execution_count": null,
      "metadata": {
        "colab": {
          "base_uri": "https://localhost:8080/"
        },
        "id": "-LjNyWK2pzLF",
        "outputId": "aa96dc21-b914-4d8c-a071-283fbf5e2504"
      },
      "outputs": [
        {
          "output_type": "stream",
          "name": "stdout",
          "text": [
            "0=01101101011010101100\n",
            "1=11100100010101101101\n",
            "2=00001010010110011111\n",
            "3=00001100111010100100\n",
            "4=00110011011100111010\n"
          ]
        }
      ],
      "source": [
        "print(result)"
      ]
    },
    {
      "cell_type": "markdown",
      "metadata": {
        "id": "SoRJ_xRNpzLC"
      },
      "source": [
        "## 2.\n"
      ]
    },
    {
      "cell_type": "code",
      "execution_count": null,
      "metadata": {
        "id": "XU8m1XEvu227"
      },
      "outputs": [],
      "source": [
        "import random\n",
        "qubits = q.LineQubit.range(1)\n",
        "circuit = q.Circuit()\n",
        "\n",
        "series = 1000\n",
        "probs = []\n",
        "for i in range(series):\n",
        "  circuit.append(q.rx(random.random()*np.pi/(70-1)).on(qubits[0]))\n",
        "\n",
        "for step in simulator.simulate_moment_steps(circuit):\n",
        "    prob = np.abs(step.state_vector()) ** 2\n",
        "    probs.append(prob[0])"
      ]
    },
    {
      "cell_type": "code",
      "execution_count": null,
      "metadata": {
        "colab": {
          "base_uri": "https://localhost:8080/",
          "height": 279
        },
        "id": "5rxRDls7xo3q",
        "outputId": "7a27696b-c9ff-4b0b-909a-6ae032bc27b0"
      },
      "outputs": [
        {
          "output_type": "display_data",
          "data": {
            "text/plain": [
              "<Figure size 432x288 with 1 Axes>"
            ],
            "image/png": "[encoded data removed]"
          },
          "metadata": {
            "needs_background": "light"
          }
        }
      ],
      "source": [
        "from matplotlib import pyplot as plt\n",
        "plt.plot(probs, 'o')\n",
        "plt.xlabel(\"Steps\")\n",
        "plt.ylabel(\"Probability of ground state\");"
      ]
    },
    {
      "cell_type": "code",
      "execution_count": null,
      "metadata": {
        "colab": {
          "base_uri": "https://localhost:8080/"
        },
        "id": "S51tDqWjv2Fq",
        "outputId": "14856c6b-eaf6-491d-fe6c-c21bd238ff75"
      },
      "outputs": [
        {
          "output_type": "stream",
          "name": "stdout",
          "text": [
            "0: ───Rx(0.01π)───Rx(0.003π)───Rx(0.007π)───Rx(0.012π)───Rx(0.01π)───Rx(0.003π)───Rx(0.014π)───Rx(0.004π)───Rx(0.004π)───Rx(0.009π)───Rx(0.009π)───Rx(0.009π)───Rx(0.01π)───Rx(0.012π)───Rx(0.01π)───Rx(0.004π)───Rx(0.011π)───Rx(0.012π)───Rx(0.001π)───Rx(0.001π)───Rx(0.003π)───Rx(0.011π)───Rx(0.002π)───Rx(0.007π)───Rx(0.012π)───Rx(0.01π)───Rx(0.011π)───Rx(0.013π)───Rx(0.002π)───Rx(0.007π)───Rx(0.014π)───Rx(0.008π)───Rx(0.002π)───Rx(0.004π)───Rx(0.012π)───Rx(0.009π)───Rx(0.012π)───Rx(0.002π)───Rx(0.013π)───Rx(0.011π)───Rx(0.01π)───Rx(0.014π)───Rx(0.013π)───Rx(0.012π)───Rx(0.01π)───Rx(0)───Rx(0.011π)───Rx(0.012π)───Rx(0.007π)───Rx(0.002π)───Rx(0.004π)───Rx(0.012π)───Rx(0.013π)───Rx(0.002π)───Rx(0)───Rx(0.002π)───Rx(0.003π)───Rx(0.008π)───Rx(0.012π)───Rx(0.002π)───Rx(0.004π)───Rx(0.012π)───Rx(0.014π)───Rx(0.005π)───Rx(0.008π)───Rx(0.007π)───Rx(0.009π)───Rx(0.002π)───Rx(0.013π)───Rx(0.009π)───Rx(0.004π)───Rx(0.01π)───Rx(0.007π)───Rx(0.002π)───Rx(0.002π)───Rx(0.007π)───Rx(0.01π)───Rx(0.003π)───Rx(0.012π)───Rx(0.009π)───Rx(0.009π)───Rx(0.005π)───Rx(0.014π)───Rx(0.01π)───Rx(0.008π)───Rx(0.008π)───Rx(0.014π)───Rx(0.003π)───Rx(0.009π)───Rx(0.014π)───Rx(0.003π)───Rx(0.012π)───Rx(0.013π)───Rx(0.001π)───Rx(0.012π)───Rx(0.009π)───Rx(0.008π)───Rx(0)───Rx(0.012π)───Rx(0.007π)───Rx(0.01π)───Rx(0.011π)───Rx(0.001π)───Rx(0.012π)───Rx(0.013π)───Rx(0.002π)───Rx(0.005π)───Rx(0.014π)───Rx(0.001π)───Rx(0.01π)───Rx(0.001π)───Rx(0.007π)───Rx(0.01π)───Rx(0.002π)───Rx(0.013π)───Rx(0.009π)───Rx(0.001π)───Rx(0.014π)───Rx(0.014π)───Rx(0.001π)───Rx(0.001π)───Rx(0.006π)───Rx(0.003π)───Rx(0.004π)───Rx(0.01π)───Rx(0.006π)───Rx(0.003π)───Rx(0.001π)───Rx(0.011π)───Rx(0.013π)───Rx(0.004π)───Rx(0.012π)───Rx(0.005π)───Rx(0.003π)───Rx(0.005π)───Rx(0)───Rx(0.004π)───Rx(0.011π)───Rx(0.013π)───Rx(0.008π)───Rx(0.012π)───Rx(0.012π)───Rx(0.001π)───Rx(0.004π)───Rx(0.006π)───Rx(0.013π)───Rx(0.014π)───Rx(0.008π)───Rx(0.011π)───Rx(0.01π)───Rx(0.003π)───Rx(0.01π)───Rx(0.014π)───Rx(0.011π)───Rx(0)───Rx(0.014π)───Rx(0.012π)───Rx(0)───Rx(0.001π)───Rx(0.011π)───Rx(0.014π)───Rx(0.002π)───Rx(0.001π)───Rx(0.011π)───Rx(0.006π)───Rx(0.007π)───Rx(0.004π)───Rx(0.001π)───Rx(0.004π)───Rx(0.01π)───Rx(0.012π)───Rx(0.007π)───Rx(0.008π)───Rx(0.006π)───Rx(0.014π)───Rx(0.001π)───Rx(0.002π)───Rx(0.006π)───Rx(0.014π)───Rx(0.007π)───Rx(0.001π)───Rx(0.013π)───Rx(0.007π)───Rx(0.006π)───Rx(0)───Rx(0.012π)───Rx(0.009π)───Rx(0.004π)───Rx(0)───Rx(0.006π)───Rx(0.009π)───Rx(0.005π)───Rx(0.006π)───Rx(0.011π)───Rx(0.006π)───Rx(0.009π)───Rx(0.003π)───Rx(0.008π)───Rx(0.001π)───Rx(0.002π)───Rx(0.011π)───Rx(0.005π)───Rx(0.003π)───Rx(0.011π)───Rx(0.009π)───Rx(0.005π)───Rx(0.003π)───Rx(0.013π)───Rx(0.011π)───Rx(0.004π)───Rx(0.008π)───Rx(0.007π)───Rx(0.013π)───Rx(0.004π)───Rx(0.002π)───Rx(0.012π)───Rx(0.002π)───Rx(0.014π)───Rx(0)───Rx(0.01π)───Rx(0.009π)───Rx(0.001π)───Rx(0.004π)───Rx(0.007π)───Rx(0.011π)───Rx(0.012π)───Rx(0.011π)───Rx(0.006π)───Rx(0.012π)───Rx(0.012π)───Rx(0.006π)───Rx(0.011π)───Rx(0.014π)───Rx(0.001π)───Rx(0.004π)───Rx(0.007π)───Rx(0.003π)───Rx(0.005π)───Rx(0.014π)───Rx(0.004π)───Rx(0.011π)───Rx(0.003π)───Rx(0.01π)───Rx(0.012π)───Rx(0.009π)───Rx(0.012π)───Rx(0.011π)───Rx(0.014π)───Rx(0.01π)───Rx(0.002π)───Rx(0.014π)───Rx(0.012π)───Rx(0.01π)───Rx(0.006π)───Rx(0.012π)───Rx(0)───Rx(0.001π)───Rx(0.011π)───Rx(0)───Rx(0.01π)───Rx(0.002π)───Rx(0.005π)───Rx(0.01π)───Rx(0.011π)───Rx(0.013π)───Rx(0.011π)───Rx(0.014π)───Rx(0.008π)───Rx(0.01π)───Rx(0.005π)───Rx(0.014π)───Rx(0.006π)───Rx(0.001π)───Rx(0.013π)───Rx(0.01π)───Rx(0.001π)───Rx(0.01π)───Rx(0.012π)───Rx(0.008π)───Rx(0.001π)───Rx(0.005π)───Rx(0.003π)───Rx(0.012π)───Rx(0.009π)───Rx(0.007π)───Rx(0.005π)───Rx(0.01π)───Rx(0.005π)───Rx(0.001π)───Rx(0.002π)───Rx(0.005π)───Rx(0.006π)───Rx(0.011π)───Rx(0.014π)───Rx(0)───Rx(0.008π)───Rx(0.003π)───Rx(0)───Rx(0.01π)───Rx(0.002π)───Rx(0.004π)───Rx(0.006π)───Rx(0.007π)───Rx(0.002π)───Rx(0.007π)───Rx(0.012π)───Rx(0.006π)───Rx(0.012π)───Rx(0.009π)───Rx(0.002π)───Rx(0.008π)───Rx(0.014π)───Rx(0.003π)───Rx(0.006π)───Rx(0.002π)───Rx(0.01π)───Rx(0.003π)───Rx(0.005π)───Rx(0.007π)───Rx(0.001π)───Rx(0.011π)───Rx(0.009π)───Rx(0.001π)───Rx(0.005π)───Rx(0.009π)───Rx(0.006π)───Rx(0.011π)───Rx(0.001π)───Rx(0.006π)───Rx(0.01π)───Rx(0.006π)───Rx(0.005π)───Rx(0.008π)───Rx(0.01π)───Rx(0.006π)───Rx(0.012π)───Rx(0.004π)───Rx(0.013π)───Rx(0.004π)───Rx(0.01π)───Rx(0.002π)───Rx(0.01π)───Rx(0.012π)───Rx(0.002π)───Rx(0.007π)───Rx(0.004π)───Rx(0.013π)───Rx(0.001π)───Rx(0.013π)───Rx(0.004π)───Rx(0.013π)───Rx(0)───Rx(0.009π)───Rx(0.004π)───Rx(0.011π)───Rx(0.009π)───Rx(0.003π)───Rx(0.01π)───Rx(0.007π)───Rx(0.003π)───Rx(0.006π)───Rx(0.011π)───Rx(0.004π)───Rx(0.011π)───Rx(0.012π)───Rx(0.011π)───Rx(0.009π)───Rx(0.007π)───Rx(0.006π)───Rx(0.013π)───Rx(0.003π)───Rx(0.004π)───Rx(0.004π)───Rx(0.008π)───Rx(0.006π)───Rx(0.013π)───Rx(0.009π)───Rx(0.003π)───Rx(0.01π)───Rx(0.013π)───Rx(0.007π)───Rx(0.012π)───Rx(0.007π)───Rx(0.006π)───Rx(0.01π)───Rx(0)───Rx(0.008π)───Rx(0.011π)───Rx(0.011π)───Rx(0.01π)───Rx(0.012π)───Rx(0.013π)───Rx(0.004π)───Rx(0.012π)───Rx(0.011π)───Rx(0.003π)───Rx(0.011π)───Rx(0.01π)───Rx(0.001π)───Rx(0.001π)───Rx(0.012π)───Rx(0.006π)───Rx(0.013π)───Rx(0.003π)───Rx(0.014π)───Rx(0.002π)───Rx(0.002π)───Rx(0.001π)───Rx(0.003π)───Rx(0.002π)───Rx(0.003π)───Rx(0.004π)───Rx(0.002π)───Rx(0.003π)───Rx(0.004π)───Rx(0.002π)───Rx(0.003π)───Rx(0.012π)───Rx(0.01π)───Rx(0.01π)───Rx(0.001π)───Rx(0.001π)───Rx(0.005π)───Rx(0.01π)───Rx(0)───Rx(0.005π)───Rx(0.014π)───Rx(0.01π)───Rx(0.001π)───Rx(0.007π)───Rx(0.013π)───Rx(0.007π)───Rx(0.004π)───Rx(0.014π)───Rx(0.009π)───Rx(0.012π)───Rx(0.011π)───Rx(0.013π)───Rx(0.002π)───Rx(0.004π)───Rx(0.009π)───Rx(0.014π)───Rx(0.005π)───Rx(0.001π)───Rx(0.012π)───Rx(0.007π)───Rx(0.014π)───Rx(0.013π)───Rx(0.014π)───Rx(0.002π)───Rx(0)───Rx(0.011π)───Rx(0.009π)───Rx(0)───Rx(0.005π)───Rx(0.004π)───Rx(0.002π)───Rx(0.003π)───Rx(0.007π)───Rx(0.001π)───Rx(0.01π)───Rx(0.01π)───Rx(0.011π)───Rx(0.005π)───Rx(0)───Rx(0.011π)───Rx(0.011π)───Rx(0)───Rx(0.007π)───Rx(0.012π)───Rx(0.01π)───Rx(0.011π)───Rx(0.007π)───Rx(0.009π)───Rx(0.013π)───Rx(0.011π)───Rx(0.014π)───Rx(0.011π)───Rx(0.001π)───Rx(0.002π)───Rx(0.013π)───Rx(0.005π)───Rx(0.013π)───Rx(0.009π)───Rx(0.013π)───Rx(0.011π)───Rx(0.012π)───Rx(0.014π)───Rx(0.004π)───Rx(0.009π)───Rx(0.013π)───Rx(0.004π)───Rx(0)───Rx(0.013π)───Rx(0.006π)───Rx(0.006π)───Rx(0.005π)───Rx(0.002π)───Rx(0.007π)───Rx(0.008π)───Rx(0.014π)───Rx(0.001π)───Rx(0.008π)───Rx(0.006π)───Rx(0.008π)───Rx(0.003π)───Rx(0.011π)───Rx(0.001π)───Rx(0.001π)───Rx(0.014π)───Rx(0.008π)───Rx(0.007π)───Rx(0.007π)───Rx(0.007π)───Rx(0.005π)───Rx(0.014π)───Rx(0.005π)───Rx(0.008π)───Rx(0.004π)───Rx(0.003π)───Rx(0.008π)───Rx(0.013π)───Rx(0.009π)───Rx(0)───Rx(0.014π)───Rx(0.008π)───Rx(0.011π)───Rx(0.001π)───Rx(0.008π)───Rx(0.007π)───Rx(0.014π)───Rx(0.01π)───Rx(0.014π)───Rx(0.002π)───Rx(0.009π)───Rx(0.012π)───Rx(0.014π)───Rx(0.012π)───Rx(0.003π)───Rx(0.01π)───Rx(0.011π)───Rx(0.012π)───Rx(0.007π)───Rx(0.013π)───Rx(0.008π)───Rx(0.004π)───Rx(0.005π)───Rx(0.004π)───Rx(0.011π)───Rx(0.004π)───Rx(0.005π)───Rx(0.01π)───Rx(0.005π)───Rx(0.013π)───Rx(0.003π)───Rx(0.012π)───Rx(0.01π)───Rx(0.009π)───Rx(0)───Rx(0.012π)───Rx(0.012π)───Rx(0.005π)───Rx(0.002π)───Rx(0.004π)───Rx(0.001π)───Rx(0.001π)───Rx(0)───Rx(0.003π)───Rx(0.012π)───Rx(0.009π)───Rx(0.001π)───Rx(0.004π)───Rx(0.009π)───Rx(0.013π)───Rx(0.011π)───Rx(0.002π)───Rx(0.002π)───Rx(0.014π)───Rx(0.013π)───Rx(0.014π)───Rx(0.014π)───Rx(0.002π)───Rx(0)───Rx(0.01π)───Rx(0.009π)───Rx(0.013π)───Rx(0.008π)───Rx(0.013π)───Rx(0.001π)───Rx(0.004π)───Rx(0.011π)───Rx(0.008π)───Rx(0.003π)───Rx(0.007π)───Rx(0.012π)───Rx(0.014π)───Rx(0.014π)───Rx(0.013π)───Rx(0.005π)───Rx(0.001π)───Rx(0.005π)───Rx(0.002π)───Rx(0.014π)───Rx(0.001π)───Rx(0.003π)───Rx(0)───Rx(0)───Rx(0.005π)───Rx(0.012π)───Rx(0.008π)───Rx(0.008π)───Rx(0.002π)───Rx(0.01π)───Rx(0.012π)───Rx(0.003π)───Rx(0.011π)───Rx(0.002π)───Rx(0.004π)───Rx(0.013π)───Rx(0.004π)───Rx(0.01π)───Rx(0.014π)───Rx(0.006π)───Rx(0.007π)───Rx(0.013π)───Rx(0.004π)───Rx(0.013π)───Rx(0.013π)───Rx(0.008π)───Rx(0.013π)───Rx(0.004π)───Rx(0.007π)───Rx(0.014π)───Rx(0)───Rx(0.014π)───Rx(0.013π)───Rx(0.011π)───Rx(0.004π)───Rx(0.013π)───Rx(0.001π)───Rx(0.012π)───Rx(0.011π)───Rx(0.004π)───Rx(0.014π)───Rx(0.007π)───Rx(0.013π)───Rx(0.003π)───Rx(0.007π)───Rx(0.014π)───Rx(0.006π)───Rx(0.013π)───Rx(0.009π)───Rx(0.006π)───Rx(0.001π)───Rx(0.003π)───Rx(0.007π)───Rx(0.008π)───Rx(0.009π)───Rx(0.013π)───Rx(0.004π)───Rx(0.007π)───Rx(0.014π)───Rx(0.001π)───Rx(0.009π)───Rx(0.009π)───Rx(0.011π)───Rx(0.009π)───Rx(0.014π)───Rx(0.005π)───Rx(0.012π)───Rx(0.007π)───Rx(0.01π)───Rx(0.003π)───Rx(0)───Rx(0.011π)───Rx(0.013π)───Rx(0.001π)───Rx(0.013π)───Rx(0.006π)───Rx(0.009π)───Rx(0.009π)───Rx(0.006π)───Rx(0.012π)───Rx(0.008π)───Rx(0.009π)───Rx(0.001π)───Rx(0.007π)───Rx(0.01π)───Rx(0.008π)───Rx(0.011π)───Rx(0.008π)───Rx(0.012π)───Rx(0.013π)───Rx(0.001π)───Rx(0.014π)───Rx(0.012π)───Rx(0.009π)───Rx(0.007π)───Rx(0.013π)───Rx(0.013π)───Rx(0.008π)───Rx(0.012π)───Rx(0)───Rx(0.001π)───Rx(0.009π)───Rx(0.014π)───Rx(0.011π)───Rx(0.007π)───Rx(0.011π)───Rx(0)───Rx(0.013π)───Rx(0.003π)───Rx(0.01π)───Rx(0.002π)───Rx(0.002π)───Rx(0.011π)───Rx(0.011π)───Rx(0.005π)───Rx(0.012π)───Rx(0.012π)───Rx(0.012π)───Rx(0.009π)───Rx(0.009π)───Rx(0.009π)───Rx(0.009π)───Rx(0)───Rx(0.013π)───Rx(0.003π)───Rx(0.013π)───Rx(0.008π)───Rx(0.006π)───Rx(0.011π)───Rx(0.007π)───Rx(0.008π)───Rx(0.003π)───Rx(0.008π)───Rx(0.007π)───Rx(0.006π)───Rx(0)───Rx(0.014π)───Rx(0.003π)───Rx(0.014π)───Rx(0.009π)───Rx(0.004π)───Rx(0.004π)───Rx(0.012π)───Rx(0.004π)───Rx(0.013π)───Rx(0.009π)───Rx(0.011π)───Rx(0.005π)───Rx(0.004π)───Rx(0.003π)───Rx(0.011π)───Rx(0.008π)───Rx(0.008π)───Rx(0.01π)───Rx(0.011π)───Rx(0.014π)───Rx(0.004π)───Rx(0.011π)───Rx(0.002π)───Rx(0.008π)───Rx(0.003π)───Rx(0.011π)───Rx(0.012π)───Rx(0.006π)───Rx(0.008π)───Rx(0.013π)───Rx(0.003π)───Rx(0.012π)───Rx(0.012π)───Rx(0.001π)───Rx(0.001π)───Rx(0.01π)───Rx(0.006π)───Rx(0.006π)───Rx(0.008π)───Rx(0.009π)───Rx(0.011π)───Rx(0.009π)───Rx(0.002π)───Rx(0.003π)───Rx(0.014π)───Rx(0.014π)───Rx(0.012π)───Rx(0.013π)───Rx(0.007π)───Rx(0.013π)───Rx(0.007π)───Rx(0.01π)───Rx(0.014π)───Rx(0.002π)───Rx(0.013π)───Rx(0.003π)───Rx(0.005π)───Rx(0.011π)───Rx(0.002π)───Rx(0.004π)───Rx(0.005π)───Rx(0.009π)───Rx(0.008π)───Rx(0.001π)───Rx(0.006π)───Rx(0.009π)───Rx(0.002π)───Rx(0.001π)───Rx(0.007π)───Rx(0.002π)───Rx(0.002π)───Rx(0.001π)───Rx(0.014π)───Rx(0.007π)───Rx(0.003π)───Rx(0.009π)───Rx(0.006π)───Rx(0.01π)───Rx(0.007π)───Rx(0.011π)───Rx(0.001π)───Rx(0.002π)───Rx(0.014π)───Rx(0.001π)───Rx(0.005π)───Rx(0.013π)───Rx(0.008π)───Rx(0.013π)───Rx(0.003π)───Rx(0.002π)───Rx(0.002π)───Rx(0.01π)───Rx(0.011π)───Rx(0.007π)───Rx(0.009π)───Rx(0.014π)───Rx(0.006π)───Rx(0.003π)───Rx(0.004π)───Rx(0.013π)───Rx(0.007π)───Rx(0.011π)───Rx(0.011π)───Rx(0.006π)───Rx(0.001π)───Rx(0.004π)───Rx(0.013π)───Rx(0.001π)───Rx(0.013π)───Rx(0.007π)───Rx(0.01π)───Rx(0.003π)───Rx(0.005π)───Rx(0.01π)───Rx(0.007π)───Rx(0.002π)───Rx(0.001π)───Rx(0.007π)───Rx(0.01π)───Rx(0.001π)───Rx(0.003π)───Rx(0.014π)───Rx(0.009π)───Rx(0.002π)───Rx(0.01π)───Rx(0.006π)───Rx(0.014π)───Rx(0.006π)───Rx(0.014π)───Rx(0.007π)───Rx(0.004π)───Rx(0.003π)───Rx(0.011π)───Rx(0.004π)───Rx(0.005π)───Rx(0.002π)───Rx(0.014π)───Rx(0.014π)───Rx(0.011π)───Rx(0.004π)───Rx(0.001π)───Rx(0.002π)───Rx(0.004π)───Rx(0.001π)───Rx(0.007π)───Rx(0.005π)───Rx(0.009π)───Rx(0.013π)───Rx(0.001π)───Rx(0.014π)───Rx(0.002π)───Rx(0.004π)───Rx(0.01π)───Rx(0.007π)───Rx(0.013π)───Rx(0.007π)───Rx(0.009π)───Rx(0.001π)───Rx(0.002π)───Rx(0.013π)───Rx(0.01π)───Rx(0.008π)───Rx(0.011π)───Rx(0.01π)───Rx(0.013π)───Rx(0.002π)───Rx(0.006π)───Rx(0.013π)───Rx(0.011π)───Rx(0.006π)───Rx(0.008π)───Rx(0.009π)───Rx(0.004π)───Rx(0.012π)───Rx(0.013π)───Rx(0.008π)───Rx(0.014π)───Rx(0.014π)───Rx(0.006π)───Rx(0.009π)───Rx(0.006π)───Rx(0.004π)───Rx(0.003π)───Rx(0.006π)───Rx(0.005π)───Rx(0.009π)───Rx(0.006π)───Rx(0.001π)───Rx(0.013π)───Rx(0.006π)───Rx(0.007π)───Rx(0.004π)───Rx(0.005π)───Rx(0.004π)───Rx(0.001π)───Rx(0.002π)───Rx(0.014π)───Rx(0.007π)───Rx(0.01π)───Rx(0.014π)───Rx(0.004π)───Rx(0.001π)───Rx(0.008π)───Rx(0.012π)───Rx(0.014π)───Rx(0.01π)───Rx(0.011π)───Rx(0.007π)───Rx(0.014π)───Rx(0.01π)───Rx(0)───Rx(0.012π)───Rx(0)───Rx(0.003π)───Rx(0.008π)───Rx(0.004π)───Rx(0.014π)───Rx(0.005π)───Rx(0.012π)───Rx(0.009π)───Rx(0.007π)───Rx(0.008π)───Rx(0.004π)───Rx(0.004π)───Rx(0.013π)───Rx(0.01π)───Rx(0.007π)───Rx(0.006π)───Rx(0.004π)───Rx(0.013π)───Rx(0.008π)───Rx(0.008π)───Rx(0.002π)───Rx(0.008π)───Rx(0.009π)───Rx(0.009π)───Rx(0.011π)───Rx(0.01π)───Rx(0.008π)───Rx(0.007π)───Rx(0.014π)───Rx(0.005π)───Rx(0.013π)───Rx(0.006π)───Rx(0.002π)───Rx(0.007π)───Rx(0.007π)───Rx(0.012π)───Rx(0.013π)───Rx(0.007π)───Rx(0.004π)───Rx(0.011π)───Rx(0)───Rx(0.007π)───Rx(0.006π)───Rx(0.004π)───Rx(0.005π)───Rx(0.01π)───Rx(0.012π)───Rx(0.013π)───Rx(0.01π)───\n"
          ]
        }
      ],
      "source": [
        "print(circuit)"
      ]
    }
  ]
}